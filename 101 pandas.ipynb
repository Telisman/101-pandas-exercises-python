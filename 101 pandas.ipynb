{
 "cells": [
  {
   "attachments": {
    "images.png": {
     "image/png": "[encoded data removed]"
    }
   },
   "cell_type": "markdown",
   "id": "6a01d9ba",
   "metadata": {},
   "source": [
    "![images.png](attachment:images.png)"
   ]
  },
  {
   "cell_type": "markdown",
   "id": "d005b91c",
   "metadata": {},
   "source": [
    "# Challenge your Logical  Pandas Python"
   ]
  },
  {
   "cell_type": "markdown",
   "id": "b15b657f",
   "metadata": {},
   "source": [
    "101 questions to help you improve your analysis skills with jupyter.\n"
   ]
  },
  {
   "cell_type": "markdown",
   "id": "4991042a",
   "metadata": {},
   "source": [
    "1. How to import pandas and check the version?\n"
   ]
  },
  {
   "cell_type": "code",
   "execution_count": 2,
   "id": "a0687b36",
   "metadata": {},
   "outputs": [],
   "source": [
    "import pandas as pd"
   ]
  },
  {
   "cell_type": "code",
   "execution_count": 3,
   "id": "6b2f6c01",
   "metadata": {},
   "outputs": [
    {
     "name": "stdout",
     "output_type": "stream",
     "text": [
      "\n",
      "INSTALLED VERSIONS\n",
      "------------------\n",
      "commit           : e8093ba372f9adfe79439d90fe74b0b5b6dea9d6\n",
      "python           : 3.10.5.final.0\n",
      "python-bits      : 64\n",
      "OS               : Windows\n",
      "OS-release       : 10\n",
      "Version          : 10.0.19044\n",
      "machine          : AMD64\n",
      "processor        : AMD64 Family 23 Model 8 Stepping 2, AuthenticAMD\n",
      "byteorder        : little\n",
      "LC_ALL           : None\n",
      "LANG             : None\n",
      "LOCALE           : Serbian (Latin)_Serbia.1252\n",
      "\n",
      "pandas           : 1.4.3\n",
      "numpy            : 1.23.0\n",
      "pytz             : 2022.1\n",
      "dateutil         : 2.8.2\n",
      "setuptools       : 58.1.0\n",
      "pip              : 22.1.2\n",
      "Cython           : None\n",
      "pytest           : None\n",
      "hypothesis       : None\n",
      "sphinx           : None\n",
      "blosc            : None\n",
      "feather          : None\n",
      "xlsxwriter       : None\n",
      "lxml.etree       : 4.9.1\n",
      "html5lib         : None\n",
      "pymysql          : 1.0.2\n",
      "psycopg2         : None\n",
      "jinja2           : 3.1.2\n",
      "IPython          : 8.4.0\n",
      "pandas_datareader: None\n",
      "bs4              : 4.11.1\n",
      "bottleneck       : None\n",
      "brotli           : None\n",
      "fastparquet      : None\n",
      "fsspec           : None\n",
      "gcsfs            : None\n",
      "markupsafe       : 2.1.1\n",
      "matplotlib       : None\n",
      "numba            : None\n",
      "numexpr          : None\n",
      "odfpy            : None\n",
      "openpyxl         : 3.0.10\n",
      "pandas_gbq       : None\n",
      "pyarrow          : None\n",
      "pyreadstat       : None\n",
      "pyxlsb           : None\n",
      "s3fs             : None\n",
      "scipy            : None\n",
      "snappy           : None\n",
      "sqlalchemy       : None\n",
      "tables           : None\n",
      "tabulate         : None\n",
      "xarray           : 2022.3.0\n",
      "xlrd             : None\n",
      "xlwt             : None\n",
      "zstandard        : None\n"
     ]
    }
   ],
   "source": [
    "pd.show_versions()"
   ]
  },
  {
   "cell_type": "markdown",
   "id": "5cab39a0",
   "metadata": {},
   "source": [
    "2. How to create a series from a list, numpy array and dict?\n"
   ]
  },
  {
   "cell_type": "code",
   "execution_count": 4,
   "id": "9c16b5c0",
   "metadata": {},
   "outputs": [],
   "source": [
    "mylist = list('abcedfghijklmnopqrstuvwxyz')"
   ]
  },
  {
   "cell_type": "code",
   "execution_count": 5,
   "id": "8771e7f5",
   "metadata": {},
   "outputs": [
    {
     "name": "stdout",
     "output_type": "stream",
     "text": [
      "['a', 'b', 'c', 'e', 'd', 'f', 'g', 'h', 'i', 'j', 'k', 'l', 'm', 'n', 'o', 'p', 'q', 'r', 's', 't', 'u', 'v', 'w', 'x', 'y', 'z']\n"
     ]
    }
   ],
   "source": [
    "print(mylist)"
   ]
  },
  {
   "cell_type": "code",
   "execution_count": 6,
   "id": "37b46ae4",
   "metadata": {},
   "outputs": [],
   "source": [
    "ser = pd.Series(mylist)"
   ]
  },
  {
   "cell_type": "code",
   "execution_count": 7,
   "id": "afbe5538",
   "metadata": {},
   "outputs": [
    {
     "name": "stdout",
     "output_type": "stream",
     "text": [
      "0     a\n",
      "1     b\n",
      "2     c\n",
      "3     e\n",
      "4     d\n",
      "5     f\n",
      "6     g\n",
      "7     h\n",
      "8     i\n",
      "9     j\n",
      "10    k\n",
      "11    l\n",
      "12    m\n",
      "13    n\n",
      "14    o\n",
      "15    p\n",
      "16    q\n",
      "17    r\n",
      "18    s\n",
      "19    t\n",
      "20    u\n",
      "21    v\n",
      "22    w\n",
      "23    x\n",
      "24    y\n",
      "25    z\n",
      "dtype: object\n"
     ]
    }
   ],
   "source": [
    "print(ser)"
   ]
  },
  {
   "cell_type": "code",
   "execution_count": 9,
   "id": "11452d41",
   "metadata": {},
   "outputs": [],
   "source": [
    "import numpy as np"
   ]
  },
  {
   "cell_type": "code",
   "execution_count": 10,
   "id": "c44f36ca",
   "metadata": {},
   "outputs": [
    {
     "name": "stdout",
     "output_type": "stream",
     "text": [
      "[ 0  1  2  3  4  5  6  7  8  9 10 11 12 13 14 15 16 17 18 19 20 21 22 23\n",
      " 24 25]\n"
     ]
    }
   ],
   "source": [
    "myarr = np.arange(26)\n",
    "print(myarr)"
   ]
  },
  {
   "cell_type": "code",
   "execution_count": 11,
   "id": "f7f76f12",
   "metadata": {},
   "outputs": [],
   "source": [
    "ser = pd.Series(myarr)"
   ]
  },
  {
   "cell_type": "code",
   "execution_count": 12,
   "id": "c8f43c21",
   "metadata": {},
   "outputs": [
    {
     "name": "stdout",
     "output_type": "stream",
     "text": [
      "0      0\n",
      "1      1\n",
      "2      2\n",
      "3      3\n",
      "4      4\n",
      "5      5\n",
      "6      6\n",
      "7      7\n",
      "8      8\n",
      "9      9\n",
      "10    10\n",
      "11    11\n",
      "12    12\n",
      "13    13\n",
      "14    14\n",
      "15    15\n",
      "16    16\n",
      "17    17\n",
      "18    18\n",
      "19    19\n",
      "20    20\n",
      "21    21\n",
      "22    22\n",
      "23    23\n",
      "24    24\n",
      "25    25\n",
      "dtype: int32\n"
     ]
    }
   ],
   "source": [
    "print(ser)"
   ]
  },
  {
   "cell_type": "code",
   "execution_count": 13,
   "id": "5272fde3",
   "metadata": {},
   "outputs": [],
   "source": [
    "mydict = dict(zip(mylist, myarr))"
   ]
  },
  {
   "cell_type": "code",
   "execution_count": 14,
   "id": "0101cef5",
   "metadata": {},
   "outputs": [
    {
     "name": "stdout",
     "output_type": "stream",
     "text": [
      "{'a': 0, 'b': 1, 'c': 2, 'e': 3, 'd': 4, 'f': 5, 'g': 6, 'h': 7, 'i': 8, 'j': 9, 'k': 10, 'l': 11, 'm': 12, 'n': 13, 'o': 14, 'p': 15, 'q': 16, 'r': 17, 's': 18, 't': 19, 'u': 20, 'v': 21, 'w': 22, 'x': 23, 'y': 24, 'z': 25}\n"
     ]
    }
   ],
   "source": [
    "print(mydict)"
   ]
  },
  {
   "cell_type": "code",
   "execution_count": 15,
   "id": "4d42d70d",
   "metadata": {},
   "outputs": [
    {
     "name": "stdout",
     "output_type": "stream",
     "text": [
      "a     0\n",
      "b     1\n",
      "c     2\n",
      "e     3\n",
      "d     4\n",
      "f     5\n",
      "g     6\n",
      "h     7\n",
      "i     8\n",
      "j     9\n",
      "k    10\n",
      "l    11\n",
      "m    12\n",
      "n    13\n",
      "o    14\n",
      "p    15\n",
      "q    16\n",
      "r    17\n",
      "s    18\n",
      "t    19\n",
      "u    20\n",
      "v    21\n",
      "w    22\n",
      "x    23\n",
      "y    24\n",
      "z    25\n",
      "dtype: int32\n"
     ]
    }
   ],
   "source": [
    "ser = pd.Series(mydict)\n",
    "print(ser)"
   ]
  },
  {
   "cell_type": "markdown",
   "id": "ca9f616e",
   "metadata": {},
   "source": [
    "3. How to convert the index of a series into a column of a dataframe?"
   ]
  },
  {
   "cell_type": "code",
   "execution_count": 16,
   "id": "35a27565",
   "metadata": {},
   "outputs": [],
   "source": [
    "mylist = list('abcedfghijklmnopqrstuvwxyz')\n",
    "myarr = np.arange(26)\n",
    "mydict = dict(zip(mylist, myarr))\n",
    "ser = pd.Series(mydict)"
   ]
  },
  {
   "cell_type": "code",
   "execution_count": 17,
   "id": "42e075b7",
   "metadata": {},
   "outputs": [],
   "source": [
    "mylist = list('abcedfghijklmnopqrstuvwxyz')"
   ]
  },
  {
   "cell_type": "code",
   "execution_count": 18,
   "id": "73fad135",
   "metadata": {},
   "outputs": [
    {
     "name": "stdout",
     "output_type": "stream",
     "text": [
      "0     a\n",
      "1     b\n",
      "2     c\n",
      "3     e\n",
      "4     d\n",
      "5     f\n",
      "6     g\n",
      "7     h\n",
      "8     i\n",
      "9     j\n",
      "10    k\n",
      "11    l\n",
      "12    m\n",
      "13    n\n",
      "14    o\n",
      "15    p\n",
      "16    q\n",
      "17    r\n",
      "18    s\n",
      "19    t\n",
      "20    u\n",
      "21    v\n",
      "22    w\n",
      "23    x\n",
      "24    y\n",
      "25    z\n",
      "dtype: object\n"
     ]
    }
   ],
   "source": [
    "ser = pd.Series(mylist)\n",
    "ser.to_frame()\n",
    "print(ser)"
   ]
  },
  {
   "cell_type": "code",
   "execution_count": 19,
   "id": "128e3f6c",
   "metadata": {},
   "outputs": [
    {
     "name": "stdout",
     "output_type": "stream",
     "text": [
      "   index  0\n",
      "0      0  a\n",
      "1      1  b\n",
      "2      2  c\n",
      "3      3  e\n",
      "4      4  d\n"
     ]
    }
   ],
   "source": [
    "df = ser.to_frame().reset_index()\n",
    "print(df.head())"
   ]
  },
  {
   "cell_type": "markdown",
   "id": "76e6f947",
   "metadata": {},
   "source": [
    "4. How to combine many series to form a dataframe?\n"
   ]
  },
  {
   "cell_type": "code",
   "execution_count": 20,
   "id": "9e11f033",
   "metadata": {},
   "outputs": [],
   "source": [
    "ser1 = pd.Series(list('abcedfghijklmnopqrstuvwxyz'))\n",
    "ser2 = pd.Series(np.arange(26))"
   ]
  },
  {
   "cell_type": "code",
   "execution_count": 21,
   "id": "6c0e5b88",
   "metadata": {},
   "outputs": [
    {
     "name": "stdout",
     "output_type": "stream",
     "text": [
      "    0   1\n",
      "0   a   0\n",
      "1   b   1\n",
      "2   c   2\n",
      "3   e   3\n",
      "4   d   4\n",
      "5   f   5\n",
      "6   g   6\n",
      "7   h   7\n",
      "8   i   8\n",
      "9   j   9\n",
      "10  k  10\n",
      "11  l  11\n",
      "12  m  12\n",
      "13  n  13\n",
      "14  o  14\n",
      "15  p  15\n",
      "16  q  16\n",
      "17  r  17\n",
      "18  s  18\n",
      "19  t  19\n",
      "20  u  20\n",
      "21  v  21\n",
      "22  w  22\n",
      "23  x  23\n",
      "24  y  24\n",
      "25  z  25\n"
     ]
    }
   ],
   "source": [
    "df=pd.concat([ser1,ser2],axis=1)\n",
    "print(df)\n"
   ]
  },
  {
   "cell_type": "code",
   "execution_count": 22,
   "id": "4028ef5e",
   "metadata": {},
   "outputs": [
    {
     "name": "stdout",
     "output_type": "stream",
     "text": [
      "   0  1\n",
      "0  a  0\n",
      "1  b  1\n",
      "2  c  2\n",
      "3  e  3\n",
      "4  d  4\n"
     ]
    }
   ],
   "source": [
    "print(df.head())\n"
   ]
  },
  {
   "cell_type": "markdown",
   "id": "00f10b51",
   "metadata": {},
   "source": [
    "How to assign name to the series’ index?"
   ]
  },
  {
   "cell_type": "code",
   "execution_count": 23,
   "id": "116dfe22",
   "metadata": {},
   "outputs": [],
   "source": [
    "ser = pd.Series(list('abcedfghijklmnopqrstuvwxyz'))"
   ]
  },
  {
   "cell_type": "code",
   "execution_count": 25,
   "id": "f95ea079",
   "metadata": {},
   "outputs": [
    {
     "data": {
      "text/plain": [
       "0     a\n",
       "1     b\n",
       "2     c\n",
       "3     e\n",
       "4     d\n",
       "5     f\n",
       "6     g\n",
       "7     h\n",
       "8     i\n",
       "9     j\n",
       "10    k\n",
       "11    l\n",
       "12    m\n",
       "13    n\n",
       "14    o\n",
       "15    p\n",
       "16    q\n",
       "17    r\n",
       "18    s\n",
       "19    t\n",
       "20    u\n",
       "21    v\n",
       "22    w\n",
       "23    x\n",
       "24    y\n",
       "25    z\n",
       "Name: alphabets, dtype: object"
      ]
     },
     "execution_count": 25,
     "metadata": {},
     "output_type": "execute_result"
    }
   ],
   "source": [
    "ser.rename(\"alphabets\")"
   ]
  },
  {
   "cell_type": "markdown",
   "id": "50d5e258",
   "metadata": {},
   "source": [
    "6. How to get the items of series A not present in series B?\n"
   ]
  },
  {
   "cell_type": "markdown",
   "id": "e638eb0a",
   "metadata": {},
   "source": [
    "From ser1 remove items present in ser2."
   ]
  },
  {
   "cell_type": "code",
   "execution_count": 27,
   "id": "92bf89bd",
   "metadata": {},
   "outputs": [],
   "source": [
    "ser1 = pd.Series([1, 2, 3, 4, 5])\n",
    "ser2 = pd.Series([4, 5, 6, 7, 8])"
   ]
  },
  {
   "cell_type": "code",
   "execution_count": 28,
   "id": "d04bdeec",
   "metadata": {},
   "outputs": [
    {
     "name": "stdout",
     "output_type": "stream",
     "text": [
      "0    1\n",
      "1    2\n",
      "2    3\n",
      "dtype: int64\n"
     ]
    }
   ],
   "source": [
    "res = ser1[~ser1.isin(ser2)]\n",
    "print(res)"
   ]
  },
  {
   "cell_type": "markdown",
   "id": "17a871f1",
   "metadata": {},
   "source": [
    "7. How to get the items not common to both series A and series B?"
   ]
  },
  {
   "cell_type": "markdown",
   "id": "2adb3ebe",
   "metadata": {},
   "source": [
    "Get all items of ser1 and ser2 not common to both"
   ]
  },
  {
   "cell_type": "code",
   "execution_count": 29,
   "id": "b9585251",
   "metadata": {},
   "outputs": [],
   "source": [
    "ser1 = pd.Series([1, 2, 3, 4, 5])\n",
    "ser2 = pd.Series([4, 5, 6, 7, 8])"
   ]
  },
  {
   "cell_type": "code",
   "execution_count": 30,
   "id": "c3c1368b",
   "metadata": {},
   "outputs": [],
   "source": [
    "union = pd.Series(np.union1d(ser1, ser2)) #combine to series"
   ]
  },
  {
   "cell_type": "code",
   "execution_count": 31,
   "id": "d9bf350d",
   "metadata": {},
   "outputs": [],
   "source": [
    "intersect = pd.Series(np.intersect1d(ser1, ser2))# intersection of the series"
   ]
  },
  {
   "cell_type": "code",
   "execution_count": 33,
   "id": "246fd6eb",
   "metadata": {},
   "outputs": [
    {
     "name": "stdout",
     "output_type": "stream",
     "text": [
      "0    1\n",
      "1    2\n",
      "2    3\n",
      "5    6\n",
      "6    7\n",
      "7    8\n",
      "dtype: int64\n"
     ]
    }
   ],
   "source": [
    "notcommonseries = union[~union.isin(intersect)] # uncommon elements in both the series \n",
    "print(notcommonseries)"
   ]
  },
  {
   "cell_type": "markdown",
   "id": "6ac32d4d",
   "metadata": {},
   "source": [
    "8. How to get the minimum, 25th percentile, median, 75th, and max of a numeric series?"
   ]
  },
  {
   "cell_type": "code",
   "execution_count": 34,
   "id": "c5420de5",
   "metadata": {},
   "outputs": [],
   "source": [
    "ser = pd.Series(np.random.normal(10, 5, 25))"
   ]
  },
  {
   "cell_type": "code",
   "execution_count": 35,
   "id": "5653e186",
   "metadata": {},
   "outputs": [
    {
     "name": "stdout",
     "output_type": "stream",
     "text": [
      "0     15.688437\n",
      "1      4.806242\n",
      "2     12.622296\n",
      "3      8.522431\n",
      "4     15.150375\n",
      "5      5.321725\n",
      "6     18.881260\n",
      "7      9.664941\n",
      "8      8.841973\n",
      "9      9.087968\n",
      "10    12.544047\n",
      "11     2.764899\n",
      "12    10.506380\n",
      "13     3.526115\n",
      "14    10.918010\n",
      "15    12.505226\n",
      "16    21.839864\n",
      "17    -5.410442\n",
      "18    17.295279\n",
      "19    11.904612\n",
      "20    13.036135\n",
      "21    15.988686\n",
      "22     4.746463\n",
      "23    15.207253\n",
      "24     7.164257\n",
      "dtype: float64\n"
     ]
    }
   ],
   "source": [
    "print(ser)"
   ]
  },
  {
   "cell_type": "code",
   "execution_count": 36,
   "id": "0effad4e",
   "metadata": {},
   "outputs": [
    {
     "name": "stdout",
     "output_type": "stream",
     "text": [
      "[-5.4104419   7.1642571  10.9180104  15.15037529 21.83986399]\n"
     ]
    }
   ],
   "source": [
    "result = np.percentile(ser, q=[0, 25, 50, 75, 100])\n",
    "print(result)"
   ]
  },
  {
   "cell_type": "markdown",
   "id": "fd6b9d2a",
   "metadata": {},
   "source": [
    "9. How to get frequency counts of unique items of a series?\n",
    "Calculte the frequency counts of each unique value ser."
   ]
  },
  {
   "cell_type": "code",
   "execution_count": 39,
   "id": "05c05e20",
   "metadata": {},
   "outputs": [
    {
     "name": "stdout",
     "output_type": "stream",
     "text": [
      "0     d\n",
      "1     c\n",
      "2     f\n",
      "3     d\n",
      "4     g\n",
      "5     e\n",
      "6     d\n",
      "7     a\n",
      "8     a\n",
      "9     e\n",
      "10    e\n",
      "11    e\n",
      "12    f\n",
      "13    h\n",
      "14    b\n",
      "15    b\n",
      "16    d\n",
      "17    f\n",
      "18    d\n",
      "19    e\n",
      "20    b\n",
      "21    d\n",
      "22    h\n",
      "23    e\n",
      "24    d\n",
      "25    d\n",
      "26    h\n",
      "27    g\n",
      "28    c\n",
      "29    f\n",
      "dtype: object\n"
     ]
    }
   ],
   "source": [
    "ser = pd.Series(np.take(list('abcdefgh'), np.random.randint(8, size=30)))\n",
    "print(ser)"
   ]
  },
  {
   "cell_type": "code",
   "execution_count": 40,
   "id": "d14ec2bf",
   "metadata": {},
   "outputs": [
    {
     "data": {
      "text/plain": [
       "d    8\n",
       "e    6\n",
       "f    4\n",
       "h    3\n",
       "b    3\n",
       "c    2\n",
       "g    2\n",
       "a    2\n",
       "dtype: int64"
      ]
     },
     "execution_count": 40,
     "metadata": {},
     "output_type": "execute_result"
    }
   ],
   "source": [
    "ser.value_counts()"
   ]
  },
  {
   "cell_type": "markdown",
   "id": "de7cf81d",
   "metadata": {},
   "source": [
    "10. How to keep only top 2 most frequent values as it is and replace everything else as ‘Other’?\n",
    "From ser, keep the top 2 most frequent items as it is and replace everything else as ‘Other’."
   ]
  },
  {
   "cell_type": "code",
   "execution_count": 41,
   "id": "82526da0",
   "metadata": {},
   "outputs": [],
   "source": [
    "np.random.RandomState(100)\n",
    "ser = pd.Series(np.random.randint(1, 5, [12]))\n"
   ]
  },
  {
   "cell_type": "code",
   "execution_count": 45,
   "id": "420d387c",
   "metadata": {},
   "outputs": [
    {
     "name": "stdout",
     "output_type": "stream",
     "text": [
      "0     Other\n",
      "1     Other\n",
      "2         2\n",
      "3     Other\n",
      "4         2\n",
      "5         2\n",
      "6         2\n",
      "7     Other\n",
      "8         2\n",
      "9     Other\n",
      "10    Other\n",
      "11    Other\n",
      "dtype: object\n"
     ]
    }
   ],
   "source": [
    "result = ser[~ser.isin(ser.value_counts().index[:2])] = 'Other'\n",
    "print(ser)"
   ]
  },
  {
   "cell_type": "markdown",
   "id": "ee53eeeb",
   "metadata": {},
   "source": [
    "11. How to bin a numeric series to 10 groups of equal size?\n",
    "Bin the series ser into 10 equal deciles and replace the values with the bin name.\n"
   ]
  },
  {
   "cell_type": "code",
   "execution_count": 47,
   "id": "09e8eb9c",
   "metadata": {},
   "outputs": [],
   "source": [
    "ser = pd.Series(np.random.random(20))"
   ]
  },
  {
   "cell_type": "code",
   "execution_count": 48,
   "id": "547aedb9",
   "metadata": {},
   "outputs": [
    {
     "data": {
      "text/plain": [
       "0     8th\n",
       "1     4th\n",
       "2     2nd\n",
       "3    10th\n",
       "4     8th\n",
       "dtype: category\n",
       "Categories (10, object): ['1st' < '2nd' < '3rd' < '4th' ... '7th' < '8th' < '9th' < '10th']"
      ]
     },
     "execution_count": 48,
     "metadata": {},
     "output_type": "execute_result"
    }
   ],
   "source": [
    "pd.qcut(ser, q=[0, .10, .20, .3, .4, .5, .6, .7, .8, .9, 1], \n",
    "        labels=['1st', '2nd', '3rd', '4th', '5th', '6th', '7th', '8th', '9th', '10th']).head()"
   ]
  },
  {
   "cell_type": "markdown",
   "id": "54f52c82",
   "metadata": {},
   "source": [
    "12. How to convert a numpy array to a dataframe of given shape? (L1)\n",
    "Reshape the series ser into a dataframe with 7 rows and 5 columns\n",
    "\n"
   ]
  },
  {
   "cell_type": "code",
   "execution_count": 50,
   "id": "ae7f6f5a",
   "metadata": {},
   "outputs": [],
   "source": [
    "ser = pd.Series(np.random.randint(1, 10, 35))"
   ]
  },
  {
   "cell_type": "code",
   "execution_count": 52,
   "id": "e24b0b06",
   "metadata": {},
   "outputs": [],
   "source": [
    "arr = ser.values #counvort into arr"
   ]
  },
  {
   "cell_type": "code",
   "execution_count": 53,
   "id": "3ed7887c",
   "metadata": {},
   "outputs": [],
   "source": [
    "reshaped_arr = arr.reshape((7, 5))"
   ]
  },
  {
   "cell_type": "code",
   "execution_count": 54,
   "id": "2b6467a7",
   "metadata": {},
   "outputs": [
    {
     "name": "stdout",
     "output_type": "stream",
     "text": [
      "[[9 1 2 4 5]\n",
      " [7 9 7 1 2]\n",
      " [3 4 1 7 7]\n",
      " [9 2 1 8 3]\n",
      " [5 8 2 9 1]\n",
      " [5 2 5 4 7]\n",
      " [7 6 3 3 7]]\n"
     ]
    }
   ],
   "source": [
    "print(reshaped_arr)"
   ]
  },
  {
   "cell_type": "code",
   "execution_count": 55,
   "id": "3e6d434c",
   "metadata": {},
   "outputs": [],
   "source": [
    "df = pd.DataFrame(ser.values.reshape(7,5)) #into DataFrame"
   ]
  },
  {
   "cell_type": "code",
   "execution_count": 56,
   "id": "4291e2b0",
   "metadata": {},
   "outputs": [
    {
     "name": "stdout",
     "output_type": "stream",
     "text": [
      "   0  1  2  3  4\n",
      "0  9  1  2  4  5\n",
      "1  7  9  7  1  2\n",
      "2  3  4  1  7  7\n",
      "3  9  2  1  8  3\n",
      "4  5  8  2  9  1\n",
      "5  5  2  5  4  7\n",
      "6  7  6  3  3  7\n"
     ]
    }
   ],
   "source": [
    "print(df)"
   ]
  },
  {
   "cell_type": "markdown",
   "id": "40978334",
   "metadata": {},
   "source": [
    "13. How to find the positions of numbers that are multiples of 3 from a series?\n",
    "Find the positions of numbers that are multiples of 3 from ser."
   ]
  },
  {
   "cell_type": "code",
   "execution_count": 70,
   "id": "438fa02a",
   "metadata": {},
   "outputs": [],
   "source": [
    "ser = pd.Series(np.random.randint(1, 10, 7))"
   ]
  },
  {
   "cell_type": "code",
   "execution_count": 71,
   "id": "d7d21dad",
   "metadata": {},
   "outputs": [],
   "source": [
    "result = np.where(ser % 3==0)"
   ]
  },
  {
   "cell_type": "code",
   "execution_count": 72,
   "id": "b4874396",
   "metadata": {},
   "outputs": [
    {
     "name": "stdout",
     "output_type": "stream",
     "text": [
      "(array([6], dtype=int64),)\n"
     ]
    }
   ],
   "source": [
    "print(result)"
   ]
  },
  {
   "cell_type": "markdown",
   "id": "25370fea",
   "metadata": {},
   "source": [
    "14. How to extract items at given positions from a series?\n",
    "From ser, extract the items at positions in list pos."
   ]
  },
  {
   "cell_type": "code",
   "execution_count": 74,
   "id": "e596c665",
   "metadata": {},
   "outputs": [],
   "source": [
    "ser = pd.Series(list('abcdefghijklmnopqrstuvwxyz'))\n",
    "pos = [0, 4, 8, 14, 20]"
   ]
  },
  {
   "cell_type": "code",
   "execution_count": 75,
   "id": "60ca7634",
   "metadata": {},
   "outputs": [],
   "source": [
    "result = ser.take(pos)"
   ]
  },
  {
   "cell_type": "code",
   "execution_count": 76,
   "id": "81901438",
   "metadata": {},
   "outputs": [
    {
     "name": "stdout",
     "output_type": "stream",
     "text": [
      "0     a\n",
      "4     e\n",
      "8     i\n",
      "14    o\n",
      "20    u\n",
      "dtype: object\n"
     ]
    }
   ],
   "source": [
    "print(result)"
   ]
  },
  {
   "cell_type": "markdown",
   "id": "7d9faa71",
   "metadata": {},
   "source": [
    "15. How to stack two series vertically and horizontally ?\n",
    "Stack ser1 and ser2 vertically and horizontally (to form a dataframe).\n",
    "\n"
   ]
  },
  {
   "cell_type": "code",
   "execution_count": 80,
   "id": "5d0d7358",
   "metadata": {},
   "outputs": [],
   "source": [
    "ser1 = pd.Series(range(5))\n",
    "ser2 = pd.Series(list('abcde'))"
   ]
  },
  {
   "cell_type": "code",
   "execution_count": 78,
   "id": "5d1bc464",
   "metadata": {},
   "outputs": [],
   "source": [
    "df = pd.concat([ser1, ser2], axis = 1)#Horizontally "
   ]
  },
  {
   "cell_type": "code",
   "execution_count": 79,
   "id": "5dbf30d3",
   "metadata": {},
   "outputs": [
    {
     "name": "stdout",
     "output_type": "stream",
     "text": [
      "   0  1\n",
      "0  0  a\n",
      "1  1  b\n",
      "2  2  c\n",
      "3  3  d\n",
      "4  4  e\n"
     ]
    }
   ],
   "source": [
    "print(df)"
   ]
  },
  {
   "cell_type": "code",
   "execution_count": 81,
   "id": "7c1e4cc6",
   "metadata": {},
   "outputs": [],
   "source": [
    "df = pd.concat([ser1, ser2], axis = 0)#Vertically \n"
   ]
  },
  {
   "cell_type": "code",
   "execution_count": 82,
   "id": "2b2a3c38",
   "metadata": {},
   "outputs": [
    {
     "name": "stdout",
     "output_type": "stream",
     "text": [
      "0    0\n",
      "1    1\n",
      "2    2\n",
      "3    3\n",
      "4    4\n",
      "0    a\n",
      "1    b\n",
      "2    c\n",
      "3    d\n",
      "4    e\n",
      "dtype: object\n"
     ]
    }
   ],
   "source": [
    "print(df)"
   ]
  },
  {
   "cell_type": "markdown",
   "id": "f016dbf2",
   "metadata": {},
   "source": [
    "16. How to get the positions of items of series A in another series B?\n",
    "Get the positions of items of ser2 in ser1 as a list."
   ]
  },
  {
   "cell_type": "code",
   "execution_count": 84,
   "id": "f4e3e7ce",
   "metadata": {},
   "outputs": [],
   "source": [
    "ser1 = pd.Series([10, 9, 6, 5, 3, 1, 12, 8, 13])\n",
    "ser2 = pd.Series([1, 3, 10, 13])"
   ]
  },
  {
   "cell_type": "code",
   "execution_count": 85,
   "id": "86a0c986",
   "metadata": {},
   "outputs": [],
   "source": [
    "result = [pd.Index(ser1).get_loc(i) for i in ser2]"
   ]
  },
  {
   "cell_type": "code",
   "execution_count": 87,
   "id": "8122b187",
   "metadata": {},
   "outputs": [
    {
     "name": "stdout",
     "output_type": "stream",
     "text": [
      "[5, 4, 0, 8]\n"
     ]
    }
   ],
   "source": [
    "print(result)"
   ]
  },
  {
   "cell_type": "markdown",
   "id": "e53add1f",
   "metadata": {},
   "source": [
    "17. How to compute the mean squared error on a truth and predicted series?\n",
    "Compute the mean squared error of truth and pred series."
   ]
  },
  {
   "cell_type": "code",
   "execution_count": 88,
   "id": "813d3385",
   "metadata": {},
   "outputs": [],
   "source": [
    "truth = pd.Series(range(10))\n",
    "pred = pd.Series(range(10)) + np.random.random(10)"
   ]
  },
  {
   "cell_type": "code",
   "execution_count": 89,
   "id": "ad01272a",
   "metadata": {},
   "outputs": [],
   "source": [
    "MSE = np.square(np.subtract(truth,pred)).mean()"
   ]
  },
  {
   "cell_type": "code",
   "execution_count": 90,
   "id": "cdbd83c7",
   "metadata": {},
   "outputs": [
    {
     "name": "stdout",
     "output_type": "stream",
     "text": [
      "0.2656014623004312\n"
     ]
    }
   ],
   "source": [
    "print(MSE)"
   ]
  },
  {
   "cell_type": "markdown",
   "id": "2f3fbdfc",
   "metadata": {},
   "source": [
    "18. How to convert the first character of each element in a series to uppercase?\n",
    "Change the first character of each word to upper case in each word of ser."
   ]
  },
  {
   "cell_type": "code",
   "execution_count": 92,
   "id": "300e9d85",
   "metadata": {},
   "outputs": [],
   "source": [
    "ser = pd.Series(['how', 'to', 'kick', 'ass?'])"
   ]
  },
  {
   "cell_type": "code",
   "execution_count": 93,
   "id": "9f5221fe",
   "metadata": {},
   "outputs": [],
   "source": [
    "ser = ser.str.capitalize()"
   ]
  },
  {
   "cell_type": "code",
   "execution_count": 94,
   "id": "6197e418",
   "metadata": {},
   "outputs": [
    {
     "name": "stdout",
     "output_type": "stream",
     "text": [
      "0     How\n",
      "1      To\n",
      "2    Kick\n",
      "3    Ass?\n",
      "dtype: object\n"
     ]
    }
   ],
   "source": [
    "print(ser)"
   ]
  },
  {
   "cell_type": "markdown",
   "id": "39452ed6",
   "metadata": {},
   "source": [
    "19. How to calculate the number of characters in each word in a series?"
   ]
  },
  {
   "cell_type": "code",
   "execution_count": 95,
   "id": "4cd26216",
   "metadata": {},
   "outputs": [],
   "source": [
    "ser = pd.Series(['how', 'to', 'kick', 'ass?'])\n"
   ]
  },
  {
   "cell_type": "code",
   "execution_count": 96,
   "id": "d7022fae",
   "metadata": {},
   "outputs": [],
   "source": [
    "rst = ser.map(lambda calc: len(calc))"
   ]
  },
  {
   "cell_type": "code",
   "execution_count": 97,
   "id": "eb311585",
   "metadata": {},
   "outputs": [
    {
     "name": "stdout",
     "output_type": "stream",
     "text": [
      "0    3\n",
      "1    2\n",
      "2    4\n",
      "3    4\n",
      "dtype: int64\n"
     ]
    }
   ],
   "source": [
    "print(rst)"
   ]
  },
  {
   "cell_type": "markdown",
   "id": "c099ede2",
   "metadata": {},
   "source": [
    "20. How to compute difference of differences between consequtive numbers of a series?\n",
    "Difference of differences between the consequtive numbers of ser.\n",
    "\n"
   ]
  },
  {
   "cell_type": "code",
   "execution_count": 98,
   "id": "bac5f7e5",
   "metadata": {},
   "outputs": [],
   "source": [
    "ser = pd.Series([1, 3, 6, 10, 15, 21, 27, 35])\n"
   ]
  },
  {
   "cell_type": "code",
   "execution_count": 99,
   "id": "aea63861",
   "metadata": {},
   "outputs": [
    {
     "name": "stdout",
     "output_type": "stream",
     "text": [
      "[nan, 2.0, 3.0, 4.0, 5.0, 6.0, 6.0, 8.0]\n",
      "[nan, nan, 1.0, 1.0, 1.0, 1.0, 0.0, 2.0]\n"
     ]
    }
   ],
   "source": [
    "print(ser.diff().tolist())\n",
    "print(ser.diff().diff().tolist())"
   ]
  },
  {
   "cell_type": "code",
   "execution_count": 100,
   "id": "9a40d552",
   "metadata": {},
   "outputs": [
    {
     "name": "stdout",
     "output_type": "stream",
     "text": [
      "Object `timeseries` not found.\n"
     ]
    }
   ],
   "source": [
    "21. How to convert a series of date-strings to a timeseries?\n"
   ]
  },
  {
   "cell_type": "code",
   "execution_count": 102,
   "id": "02f7231d",
   "metadata": {},
   "outputs": [
    {
     "data": {
      "text/plain": [
       "0   2010-01-01 00:00:00\n",
       "1   2011-02-02 00:00:00\n",
       "2   2012-03-03 00:00:00\n",
       "3   2013-04-04 00:00:00\n",
       "4   2014-05-05 00:00:00\n",
       "5   2015-06-06 12:20:00\n",
       "dtype: datetime64[ns]"
      ]
     },
     "execution_count": 102,
     "metadata": {},
     "output_type": "execute_result"
    }
   ],
   "source": [
    "ser = pd.Series(['01 Jan 2010', '02-02-2011', '20120303', '2013/04/04', '2014-05-05', '2015-06-06T12:20'])\n",
    "pd.to_datetime(ser)"
   ]
  },
  {
   "cell_type": "markdown",
   "id": "4af18a40",
   "metadata": {},
   "source": [
    "22. How to get the day of month, week number, day of year and day of week from a series of date strings?\n",
    "Get the day of month, week number, day of year and day of week from ser."
   ]
  },
  {
   "cell_type": "code",
   "execution_count": 115,
   "id": "1c245cef",
   "metadata": {},
   "outputs": [],
   "source": [
    "ser = pd.Series(['01 Jan 2010', '02-02-2011', '20120303', '2013/04/04', '2014-05-05', '2015-06-06T12:20'])\n",
    "from dateutil.parser import parse\n"
   ]
  },
  {
   "cell_type": "code",
   "execution_count": 116,
   "id": "40abedb2",
   "metadata": {},
   "outputs": [],
   "source": [
    "ser_ts = ser.map(lambda x: parse(x))\n"
   ]
  },
  {
   "cell_type": "code",
   "execution_count": 121,
   "id": "47474008",
   "metadata": {},
   "outputs": [
    {
     "name": "stdout",
     "output_type": "stream",
     "text": [
      "Date:  [1, 2, 3, 4, 5, 6]\n",
      "Week number:  [53, 5, 9, 14, 19, 23]\n"
     ]
    },
    {
     "name": "stderr",
     "output_type": "stream",
     "text": [
      "C:\\Users\\Davor\\AppData\\Local\\Temp\\ipykernel_17648\\4121860575.py:2: FutureWarning: Series.dt.weekofyear and Series.dt.week have been deprecated. Please use Series.dt.isocalendar().week instead.\n",
      "  print(\"Week number: \", ser_ts.dt.weekofyear.tolist())\n"
     ]
    }
   ],
   "source": [
    "print(\"Date: \", ser_ts.dt.day.tolist())\n",
    "print(\"Week number: \", ser_ts.dt.weekofyear.tolist())\n"
   ]
  },
  {
   "cell_type": "markdown",
   "id": "182e9ad4",
   "metadata": {},
   "source": [
    "23. How to convert year-month string to dates corresponding to the 4th day of the month?\n",
    "Change ser to dates that start with 4th of the respective months."
   ]
  },
  {
   "cell_type": "code",
   "execution_count": null,
   "id": "e9b5f986",
   "metadata": {},
   "outputs": [],
   "source": []
  }
 ],
 "metadata": {
  "kernelspec": {
   "display_name": "Python 3 (ipykernel)",
   "language": "python",
   "name": "python3"
  },
  "language_info": {
   "codemirror_mode": {
    "name": "ipython",
    "version": 3
   },
   "file_extension": ".py",
   "mimetype": "text/x-python",
   "name": "python",
   "nbconvert_exporter": "python",
   "pygments_lexer": "ipython3",
   "version": "3.10.5"
  }
 },
 "nbformat": 4,
 "nbformat_minor": 5
}
